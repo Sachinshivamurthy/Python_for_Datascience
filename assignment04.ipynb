{
 "cells": [
  {
   "cell_type": "code",
   "execution_count": 40,
   "metadata": {},
   "outputs": [
    {
     "name": "stdout",
     "output_type": "stream",
     "text": [
      "0.4330127018922193\n"
     ]
    }
   ],
   "source": [
    "class Triangle:\n",
    "    def __init__(self,a,b,c):\n",
    "        self.a=a\n",
    "        self.b=b\n",
    "        self.c=c\n",
    "class Area1(Triangle):\n",
    "    def area(self):\n",
    "        s=(self.a+self.b+self.c)/2\n",
    "        x=(s*(s-self.a)*(s-self.b)*(s-self.c))**(.5)\n",
    "        return x\n",
    "t=Triangle(1,1,1)\n",
    "a=Area1(1,1,1)\n",
    "print(a.area())\n",
    "\n",
    "\n",
    "    "
   ]
  },
  {
   "cell_type": "code",
   "execution_count": 34,
   "metadata": {},
   "outputs": [
    {
     "name": "stdout",
     "output_type": "stream",
     "text": [
      "['adeyj']\n"
     ]
    }
   ],
   "source": [
    "def filter_long_words(n,lis):\n",
    "    x=[]\n",
    "    for i in lis:\n",
    "        if n<len(i):\n",
    "            x.append(i)\n",
    "    print(x)\n",
    "filter_long_words(3,['adeyj','sd','d'])\n",
    "        "
   ]
  },
  {
   "cell_type": "code",
   "execution_count": 7,
   "metadata": {},
   "outputs": [
    {
     "name": "stdout",
     "output_type": "stream",
     "text": [
      "[5, 2, 1]\n"
     ]
    }
   ],
   "source": [
    "def length_of_words(lis):\n",
    "    x=[]\n",
    "    for i in lis:\n",
    "        x.append(len(i))\n",
    "    print(x)\n",
    "length_of_words(['adeyj','sd','d'])"
   ]
  },
  {
   "cell_type": "code",
   "execution_count": 9,
   "metadata": {},
   "outputs": [
    {
     "name": "stdout",
     "output_type": "stream",
     "text": [
      "True\n"
     ]
    }
   ],
   "source": [
    "def vowel(char):\n",
    "    vow=['u','o','i','e','a']\n",
    "    if char in vow:\n",
    "        return True\n",
    "    else:\n",
    "        return False\n",
    "print(vowel(\"a\"))"
   ]
  },
  {
   "cell_type": "code",
   "execution_count": null,
   "metadata": {},
   "outputs": [],
   "source": []
  }
 ],
 "metadata": {
  "kernelspec": {
   "display_name": "Python 3",
   "language": "python",
   "name": "python3"
  },
  "language_info": {
   "codemirror_mode": {
    "name": "ipython",
    "version": 3
   },
   "file_extension": ".py",
   "mimetype": "text/x-python",
   "name": "python",
   "nbconvert_exporter": "python",
   "pygments_lexer": "ipython3",
   "version": "3.7.6"
  }
 },
 "nbformat": 4,
 "nbformat_minor": 4
}
